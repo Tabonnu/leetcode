{
  "nbformat": 4,
  "nbformat_minor": 0,
  "metadata": {
    "colab": {
      "name": "Untitled5.ipynb",
      "provenance": [],
      "authorship_tag": "ABX9TyMoBb2QxDmUiKl41RzVCB2n",
      "include_colab_link": true
    },
    "kernelspec": {
      "name": "python3",
      "display_name": "Python 3"
    },
    "language_info": {
      "name": "python"
    }
  },
  "cells": [
    {
      "cell_type": "markdown",
      "metadata": {
        "id": "view-in-github",
        "colab_type": "text"
      },
      "source": [
        "<a href=\"https://colab.research.google.com/github/Tabonnu/leetcode/blob/main/leetcode%2075/392.ipynb\" target=\"_parent\"><img src=\"https://colab.research.google.com/assets/colab-badge.svg\" alt=\"Open In Colab\"/></a>"
      ]
    },
    {
      "cell_type": "markdown",
      "source": [
        "簡単！"
      ],
      "metadata": {
        "id": "rPz8zCheC8lD"
      }
    },
    {
      "cell_type": "code",
      "execution_count": null,
      "metadata": {
        "id": "DOWZxtGCC7Zz"
      },
      "outputs": [],
      "source": [
        "class Solution:\n",
        "    def isSubsequence(self, s: str, t: str) -> bool:\n",
        "        S = list(s)\n",
        "        T = list(t)\n",
        "        n_s = len(S)\n",
        "        n_t = len(T)\n",
        "        end = -1\n",
        "        count = 0\n",
        "        \n",
        "        for i in range(n_s):\n",
        "            for j in range(n_t):\n",
        "                if S[i] == T[j] and j>end:\n",
        "                    end = j\n",
        "                    count = count + 1\n",
        "                    break\n",
        "        \n",
        "        if count == n_s:\n",
        "            return True\n",
        "        else:\n",
        "            return False"
      ]
    }
  ]
}