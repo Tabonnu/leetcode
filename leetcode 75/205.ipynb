{
  "nbformat": 4,
  "nbformat_minor": 0,
  "metadata": {
    "colab": {
      "name": "205.ipynb",
      "provenance": [],
      "authorship_tag": "ABX9TyPjDRbGnYa+tgPjBhSeeld2",
      "include_colab_link": true
    },
    "kernelspec": {
      "name": "python3",
      "display_name": "Python 3"
    },
    "language_info": {
      "name": "python"
    }
  },
  "cells": [
    {
      "cell_type": "markdown",
      "metadata": {
        "id": "view-in-github",
        "colab_type": "text"
      },
      "source": [
        "<a href=\"https://colab.research.google.com/github/Tabonnu/leetcode/blob/main/leetcode%2075/205.ipynb\" target=\"_parent\"><img src=\"https://colab.research.google.com/assets/colab-badge.svg\" alt=\"Open In Colab\"/></a>"
      ]
    },
    {
      "cell_type": "markdown",
      "source": [
        "#辞書使って解いた問題\n",
        "##dict()で空辞書を作成\n",
        "##key in dictでkeyが辞書にあるか探す\n",
        "##値 in dict.values() で値が辞書にあるか探す\n",
        "##[k for k, v in Dic.items() if v == T[i]][0]で値からkeyを探す。"
      ],
      "metadata": {
        "id": "RlDmYYFNnCuw"
      }
    },
    {
      "cell_type": "markdown",
      "source": [
        "無駄にprintするとoutput errorが出る"
      ],
      "metadata": {
        "id": "h_MKX6e-nJsN"
      }
    },
    {
      "cell_type": "code",
      "execution_count": null,
      "metadata": {
        "id": "-c35TdH5nBtq"
      },
      "outputs": [],
      "source": [
        "\n",
        "class Solution:\n",
        "    \n",
        "    def isIsomorphic(self, s: str, t: str) -> bool:\n",
        "        S = list(s)\n",
        "        T = list(t)\n",
        "        n = len(S)\n",
        "        Dic = dict()\n",
        "        \n",
        "#for 2times\n",
        "        for i in range(n):\n",
        "            if S[i] in Dic:\n",
        "                if Dic[S[i]] != T[i]:\n",
        "                    return False\n",
        "            \n",
        "            elif T[i] in Dic.values():\n",
        "                print(2)\n",
        "                key = [k for k, v in Dic.items() if v == T[i]][0]\n",
        "                if key != S[i]:\n",
        "                    return False\n",
        "            \n",
        "\n",
        "            else:\n",
        "                Dic[S[i]] = T[i]\n",
        "                \n",
        "            #print(Dic)\n",
        "        return True"
      ]
    }
  ]
}