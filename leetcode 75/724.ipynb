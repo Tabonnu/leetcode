{
  "nbformat": 4,
  "nbformat_minor": 0,
  "metadata": {
    "colab": {
      "name": "724.ipynb",
      "provenance": [],
      "authorship_tag": "ABX9TyOYZ0q5z+4WM+Rm9hjKOl7t",
      "include_colab_link": true
    },
    "kernelspec": {
      "name": "python3",
      "display_name": "Python 3"
    },
    "language_info": {
      "name": "python"
    }
  },
  "cells": [
    {
      "cell_type": "markdown",
      "metadata": {
        "id": "view-in-github",
        "colab_type": "text"
      },
      "source": [
        "<a href=\"https://colab.research.google.com/github/Tabonnu/leetcode/blob/main/leetcode%2075/724.ipynb\" target=\"_parent\"><img src=\"https://colab.research.google.com/assets/colab-badge.svg\" alt=\"Open In Colab\"/></a>"
      ]
    },
    {
      "cell_type": "code",
      "execution_count": null,
      "metadata": {
        "id": "RAZrzQyYky7s"
      },
      "outputs": [],
      "source": [
        "class Solution:\n",
        "    def pivotIndex(self, nums: List[int]) -> int:\n",
        "        num = len(nums)\n",
        "        nums.append(0)\n",
        "        left_sum = 0\n",
        "        right_sum = sum(nums[1::])\n",
        "        \n",
        "        for i in range(num):\n",
        "            if left_sum == right_sum:\n",
        "                return i\n",
        "            else:\n",
        "                left_sum = left_sum + nums[i]\n",
        "                right_sum = right_sum - nums[i+1]\n",
        "        return -1"
      ]
    }
  ]
}