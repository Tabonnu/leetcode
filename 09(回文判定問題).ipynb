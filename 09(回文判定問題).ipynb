{
  "nbformat": 4,
  "nbformat_minor": 0,
  "metadata": {
    "colab": {
      "name": "09(回文判定問題).ipynb",
      "provenance": [],
      "toc_visible": true,
      "authorship_tag": "ABX9TyMHCpvOCFHMdgOp+CtrcQjr",
      "include_colab_link": true
    },
    "kernelspec": {
      "name": "python3",
      "display_name": "Python 3"
    },
    "language_info": {
      "name": "python"
    }
  },
  "cells": [
    {
      "cell_type": "markdown",
      "metadata": {
        "id": "view-in-github",
        "colab_type": "text"
      },
      "source": [
        "<a href=\"https://colab.research.google.com/github/Tabonnu/leetcode/blob/main/09(%E5%9B%9E%E6%96%87%E5%88%A4%E5%AE%9A%E5%95%8F%E9%A1%8C).ipynb\" target=\"_parent\"><img src=\"https://colab.research.google.com/assets/colab-badge.svg\" alt=\"Open In Colab\"/></a>"
      ]
    },
    {
      "cell_type": "markdown",
      "source": [
        "##回文問題\n"
      ],
      "metadata": {
        "id": "dhqd4QpWfGjQ"
      }
    },
    {
      "cell_type": "markdown",
      "source": [
        "###与えられた数字とその数字を数学的に計算して反転させたものを比較したら良い。"
      ],
      "metadata": {
        "id": "aU2qgvuJhBhy"
      }
    },
    {
      "cell_type": "markdown",
      "source": [
        "###順当なやり方"
      ],
      "metadata": {
        "id": "oyEXyFlifYPN"
      }
    },
    {
      "cell_type": "code",
      "execution_count": null,
      "metadata": {
        "id": "LYfFKic8e-Bb"
      },
      "outputs": [],
      "source": [
        "class Solution:\n",
        "    def isPalindrome(self, x: int) -> bool:\n",
        "        A = list(str(x))\n",
        "        nA = len(A)\n",
        "        \n",
        "        if nA % 2 == 0:\n",
        "            for i in range(int(nA/2)):\n",
        "                if A[i] != A[nA-i-1]:\n",
        "                    return False\n",
        "        else :\n",
        "            for i in range(int(nA/2)):\n",
        "                if A[i] != A[nA-i-1]:\n",
        "                    return False\n",
        "\n",
        "        return True"
      ]
    },
    {
      "cell_type": "markdown",
      "source": [
        "###関数を使ったやり方"
      ],
      "metadata": {
        "id": "SoEL8dF3fPkx"
      }
    },
    {
      "cell_type": "code",
      "source": [
        "class Solution:\n",
        "    def isPalindrome(self, x: int) -> bool:\n",
        "\n",
        "        if str(x) != \"\".join(reversed(str(x))):\n",
        "            return False\n",
        "\n",
        "        return True"
      ],
      "metadata": {
        "id": "g2ZTRKL5fUgj"
      },
      "execution_count": null,
      "outputs": []
    }
  ]
}