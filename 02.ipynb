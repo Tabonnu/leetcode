{
  "nbformat": 4,
  "nbformat_minor": 0,
  "metadata": {
    "colab": {
      "name": "02.ipynb",
      "provenance": [],
      "authorship_tag": "ABX9TyNqG1dOB6dQxEjqhz/O5B6o",
      "include_colab_link": true
    },
    "kernelspec": {
      "name": "python3",
      "display_name": "Python 3"
    },
    "language_info": {
      "name": "python"
    }
  },
  "cells": [
    {
      "cell_type": "markdown",
      "metadata": {
        "id": "view-in-github",
        "colab_type": "text"
      },
      "source": [
        "<a href=\"https://colab.research.google.com/github/Tabonnu/leetcode/blob/main/02.ipynb\" target=\"_parent\"><img src=\"https://colab.research.google.com/assets/colab-badge.svg\" alt=\"Open In Colab\"/></a>"
      ]
    },
    {
      "cell_type": "markdown",
      "source": [
        "#2. Add Two Numbers\n"
      ],
      "metadata": {
        "id": "GCwT8JElZK68"
      }
    },
    {
      "cell_type": "code",
      "execution_count": null,
      "metadata": {
        "id": "-XyCJXBPZIw0"
      },
      "outputs": [],
      "source": [
        "# Definition for singly-linked list.\n",
        "# class ListNode:\n",
        "#     def __init__(self, val=0, next=None):\n",
        "#         self.val = val\n",
        "#         self.next = next\n",
        "\n",
        "class Solution:\n",
        "    def addTwoNumbers(self, l1: Optional[ListNode], l2: Optional[ListNode]) -> Optional[ListNode]:\n",
        "\n",
        "        sum1 = 0\n",
        "        sum2 = 0\n",
        "\n",
        "        j = 1\n",
        "        \n",
        "        while l1:\n",
        "            sum1 = sum1 + j*l1.val\n",
        "            l1 = l1.next\n",
        "            j = j*10\n",
        "            \n",
        "        j = 1\n",
        "        \n",
        "        while l2:\n",
        "            sum2 = sum2 + j*l2.val\n",
        "            l2 = l2.next\n",
        "            j = j*10\n",
        "            \n",
        "        sum3 = sum1+sum2\n",
        "        Out = list(str(sum3))\n",
        "        Out.reverse()\n",
        "        num3 = len(Out)\n",
        "        tmp = None\n",
        "        head = None\n",
        "\n",
        "        for i in range(num3):\n",
        "            if tmp is None:\n",
        "                tmp = head = ListNode(Out[i])\n",
        "            else:\n",
        "                tmp.next = ListNode(Out[i])\n",
        "                tmp = tmp.next\n",
        "                print(head)\n",
        "                print(tmp)\n",
        "\n",
        "        return head\n",
        "            \n",
        "            \n",
        "            "
      ]
    },
    {
      "cell_type": "markdown",
      "source": [
        "## tmpを動かすことでどうしてheadも変更されるのかが分からない。\n",
        "## クラスの考えを使う問題"
      ],
      "metadata": {
        "id": "DHMjqd28Ze_a"
      }
    },
    {
      "cell_type": "code",
      "source": [
        ""
      ],
      "metadata": {
        "id": "81LJ7T3HZq-a"
      },
      "execution_count": null,
      "outputs": []
    }
  ]
}