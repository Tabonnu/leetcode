{
  "nbformat": 4,
  "nbformat_minor": 0,
  "metadata": {
    "colab": {
      "name": "13_1.ipynb",
      "provenance": [],
      "toc_visible": true,
      "authorship_tag": "ABX9TyPX0rsuC7DQxZtyEi3B6b/Z",
      "include_colab_link": true
    },
    "kernelspec": {
      "name": "python3",
      "display_name": "Python 3"
    },
    "language_info": {
      "name": "python"
    }
  },
  "cells": [
    {
      "cell_type": "markdown",
      "metadata": {
        "id": "view-in-github",
        "colab_type": "text"
      },
      "source": [
        "<a href=\"https://colab.research.google.com/github/Tabonnu/leetcode/blob/main/13_1.ipynb\" target=\"_parent\"><img src=\"https://colab.research.google.com/assets/colab-badge.svg\" alt=\"Open In Colab\"/></a>"
      ]
    },
    {
      "cell_type": "code",
      "execution_count": 1,
      "metadata": {
        "id": "b2_JHm0GKAV3"
      },
      "outputs": [],
      "source": [
        "class Solution:\n",
        "    def romanToInt(self, s: str) -> int:\n",
        "        # Dictionary of roman numerals\n",
        "        roman_map = {'I': 1, 'V': 5, 'X': 10, 'L': 50, 'C': 100, 'D': 500, 'M': 1000}\n",
        "        # Length of the given string\n",
        "        n = len(s)\n",
        "        # This variable will store result\n",
        "        num = roman_map[s[n - 1]]\n",
        "        # Loop for each character from right to left\n",
        "        for i in range(n - 2, -1, -1):\n",
        "            # Check if the character at right of current character is bigger or smaller\n",
        "            if roman_map[s[i]] >= roman_map[s[i + 1]]:\n",
        "                num += roman_map[s[i]]\n",
        "            else:\n",
        "                num -= roman_map[s[i]]\n",
        "        return num"
      ]
    }
  ]
}