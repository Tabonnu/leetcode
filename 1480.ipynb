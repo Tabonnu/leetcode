{
  "nbformat": 4,
  "nbformat_minor": 0,
  "metadata": {
    "colab": {
      "name": "1480.ipynb",
      "provenance": [],
      "authorship_tag": "ABX9TyPGb+6FxO5DNnHd6UU5S5OC",
      "include_colab_link": true
    },
    "kernelspec": {
      "name": "python3",
      "display_name": "Python 3"
    },
    "language_info": {
      "name": "python"
    }
  },
  "cells": [
    {
      "cell_type": "markdown",
      "metadata": {
        "id": "view-in-github",
        "colab_type": "text"
      },
      "source": [
        "<a href=\"https://colab.research.google.com/github/Tabonnu/leetcode/blob/leet-code-75/1480.ipynb\" target=\"_parent\"><img src=\"https://colab.research.google.com/assets/colab-badge.svg\" alt=\"Open In Colab\"/></a>"
      ]
    },
    {
      "cell_type": "code",
      "execution_count": null,
      "metadata": {
        "id": "RAZrzQyYky7s"
      },
      "outputs": [],
      "source": [
        "class Solution:\n",
        "    def runningSum(self, nums: List[int]) -> List[int]:\n",
        "        num = len(nums)\n",
        "        sum = 0\n",
        "        A = []\n",
        "        for i in range(num):\n",
        "            sum = sum + nums[i]\n",
        "            A.append(sum)\n",
        "        return A"
      ]
    }
  ]
}