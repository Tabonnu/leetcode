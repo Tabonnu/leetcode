{
  "nbformat": 4,
  "nbformat_minor": 0,
  "metadata": {
    "colab": {
      "name": "03_１.ipynb",
      "provenance": [],
      "toc_visible": true,
      "authorship_tag": "ABX9TyOfVEU+8Zi+2M7xEPKGwZgI",
      "include_colab_link": true
    },
    "kernelspec": {
      "name": "python3",
      "display_name": "Python 3"
    },
    "language_info": {
      "name": "python"
    }
  },
  "cells": [
    {
      "cell_type": "markdown",
      "metadata": {
        "id": "view-in-github",
        "colab_type": "text"
      },
      "source": [
        "<a href=\"https://colab.research.google.com/github/Tabonnu/leetcode/blob/main/03_%EF%BC%91.ipynb\" target=\"_parent\"><img src=\"https://colab.research.google.com/assets/colab-badge.svg\" alt=\"Open In Colab\"/></a>"
      ]
    },
    {
      "cell_type": "markdown",
      "source": [
        "#sliding window問題"
      ],
      "metadata": {
        "id": "CKDYIPuesumB"
      }
    },
    {
      "cell_type": "markdown",
      "source": [
        "##集合も使う\n",
        "##ハッシュテーブルを使うともっと早いらしい"
      ],
      "metadata": {
        "id": "0ugjAj81s8vO"
      }
    },
    {
      "cell_type": "code",
      "execution_count": null,
      "metadata": {
        "id": "um67Le-bssgc"
      },
      "outputs": [],
      "source": [
        "class Solution:\n",
        "    def lengthOfLongestSubstring(self, s: str) -> int:\n",
        "        A = list(s)\n",
        "        n = len(A)\n",
        "        if n == 0:\n",
        "            return 0\n",
        "        else:\n",
        "            start = 0\n",
        "            end = 0\n",
        "            max_length = 0\n",
        "            patarn = set() #集合\n",
        "            \n",
        "            while end<n:\n",
        "                if s[end] not in patarn:\n",
        "                    patarn.add(s[end]) \n",
        "                    end = end + 1\n",
        "                    max_length = max(max_length,len(patarn))\n",
        "                else:\n",
        "                    patarn.remove(s[start])\n",
        "                    start = start + 1\n",
        "        return max_length\n",
        "        "
      ]
    }
  ]
}
