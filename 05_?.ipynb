{
  "nbformat": 4,
  "nbformat_minor": 0,
  "metadata": {
    "colab": {
      "name": "05_?.ipynb",
      "provenance": [],
      "authorship_tag": "ABX9TyNsyLDWun82EAM4OiZhQt5A",
      "include_colab_link": true
    },
    "kernelspec": {
      "name": "python3",
      "display_name": "Python 3"
    },
    "language_info": {
      "name": "python"
    }
  },
  "cells": [
    {
      "cell_type": "markdown",
      "metadata": {
        "id": "view-in-github",
        "colab_type": "text"
      },
      "source": [
        "<a href=\"https://colab.research.google.com/github/Tabonnu/leetcode/blob/main/05_%3F.ipynb\" target=\"_parent\"><img src=\"https://colab.research.google.com/assets/colab-badge.svg\" alt=\"Open In Colab\"/></a>"
      ]
    },
    {
      "cell_type": "code",
      "execution_count": null,
      "metadata": {
        "id": "PSPd-FPr-kKw"
      },
      "outputs": [],
      "source": [
        "class Solution:\n",
        "    def longestPalindrome(self, s: str) -> str:\n",
        "        if not s:\n",
        "            return \"\"\n",
        "        for i in range(len(s),0,-1):\n",
        "            for j in range(len(s)-i+1):\n",
        "                if s[j:i+j] == s[j:i+j][::-1]:\n",
        "                    return s[j:i+j]"
      ]
    }
  ]
}